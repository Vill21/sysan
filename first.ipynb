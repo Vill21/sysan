{
 "cells": [
  {
   "cell_type": "markdown",
   "metadata": {},
   "source": [
    "$$\n",
    "H = -\\sum^m \\sum^k \\dfrac{l_{ji}}{n - 1} lg(\\dfrac{l_{ji}}{n - 1})\n",
    "$$\n",
    "\n",
    "$H$ - энтропия\\\n",
    "$l_{ji}$ - число элементов $j$ системы в отношении $i$\\\n",
    "$n$ - кол-во элементов в системе\\"
   ]
  },
  {
   "cell_type": "code",
   "execution_count": 2,
   "metadata": {},
   "outputs": [],
   "source": [
    "from modules import H, l_matrix, GraphNodeLevel"
   ]
  },
  {
   "cell_type": "markdown",
   "metadata": {},
   "source": [
    "### Задача 3.1"
   ]
  },
  {
   "cell_type": "code",
   "execution_count": 3,
   "metadata": {},
   "outputs": [
    {
     "name": "stdout",
     "output_type": "stream",
     "text": [
      "Ответ на первый пункт задачи 3.1 равен 0.6021\n"
     ]
    }
   ],
   "source": [
    "first = GraphNodeLevel(1, 1)\n",
    "second = GraphNodeLevel(2, 1, [first], None)\n",
    "third = GraphNodeLevel(3, 1, [second], [second])\n",
    "\n",
    "l = l_matrix([first, second, third], 2)\n",
    "result = H(l, 3)\n",
    "\n",
    "print(\"Ответ на первый пункт задачи 3.1 равен {:.4g}\".format(result))"
   ]
  },
  {
   "cell_type": "code",
   "execution_count": 4,
   "metadata": {},
   "outputs": [
    {
     "name": "stdout",
     "output_type": "stream",
     "text": [
      "Ответ на второй пункт задачи 3.1 равен 0.6021\n"
     ]
    }
   ],
   "source": [
    "first = GraphNodeLevel(1, 1)\n",
    "second = GraphNodeLevel(2, 1, [first], [first])\n",
    "third = GraphNodeLevel(3, 1, [second], [second])\n",
    "\n",
    "l = l_matrix([first, second, third], 2)\n",
    "result = H(l, 3)\n",
    "\n",
    "print(\"Ответ на второй пункт задачи 3.1 равен {:.4g}\".format(result))"
   ]
  },
  {
   "cell_type": "markdown",
   "metadata": {},
   "source": [
    "### Задача 3.2"
   ]
  },
  {
   "cell_type": "code",
   "execution_count": 5,
   "metadata": {},
   "outputs": [
    {
     "name": "stdout",
     "output_type": "stream",
     "text": [
      "Ответ на первый пункт задачи 3.2 равен 1.507\n"
     ]
    }
   ],
   "source": [
    "first = GraphNodeLevel(1, 1)\n",
    "second = GraphNodeLevel(2, 2, [first], None)\n",
    "third = GraphNodeLevel(3, 3, [second], None)\n",
    "fourth = GraphNodeLevel(4, 3, [second], None)\n",
    "\n",
    "l = l_matrix([first, second, third, fourth], 5)\n",
    "result = H(l, 4)\n",
    "\n",
    "print(\"Ответ на первый пункт задачи 3.2 равен {:.4g}\".format(result))"
   ]
  },
  {
   "cell_type": "code",
   "execution_count": 6,
   "metadata": {},
   "outputs": [
    {
     "name": "stdout",
     "output_type": "stream",
     "text": [
      "Ответ на второй пункт задачи 3.2 равен 0.8293\n"
     ]
    }
   ],
   "source": [
    "first = GraphNodeLevel(1, 1)\n",
    "second = GraphNodeLevel(2, 2, [first], None)\n",
    "third = GraphNodeLevel(3, 2, [first], None)\n",
    "fourth = GraphNodeLevel(4, 2, [first], None)\n",
    "\n",
    "l = l_matrix([first, second, third, fourth], 5)\n",
    "result = H(l, 4)\n",
    "\n",
    "print(\"Ответ на второй пункт задачи 3.2 равен {:.4g}\".format(result))"
   ]
  },
  {
   "cell_type": "markdown",
   "metadata": {},
   "source": [
    "### Задача 3.3"
   ]
  },
  {
   "cell_type": "code",
   "execution_count": 11,
   "metadata": {},
   "outputs": [
    {
     "name": "stdout",
     "output_type": "stream",
     "text": [
      "Ответ на первый пункт задачи 3.3 равен 1.505\n"
     ]
    }
   ],
   "source": [
    "first = GraphNodeLevel(1, 1)\n",
    "second = GraphNodeLevel(2, 1, [first], [first])\n",
    "third = GraphNodeLevel(3, 1, [first], [first])\n",
    "fourth = GraphNodeLevel(4, 1, [second], [second])\n",
    "fifth = GraphNodeLevel(5, 1, [third], [third])\n",
    "\n",
    "l = l_matrix([first, second, third, fourth, fifth], 2)\n",
    "result = H(l, 5)\n",
    "\n",
    "print(\"Ответ на первый пункт задачи 3.3 равен {:.4g}\".format(result))"
   ]
  },
  {
   "cell_type": "code",
   "execution_count": 12,
   "metadata": {},
   "outputs": [
    {
     "name": "stdout",
     "output_type": "stream",
     "text": [
      "Ответ на второй пункт задачи 3.3 равен 0.9392\n"
     ]
    }
   ],
   "source": [
    "first = GraphNodeLevel(1, 1)\n",
    "second = GraphNodeLevel(2, 1, [first], [first])\n",
    "fourth = GraphNodeLevel(4, 1, [first], [first])\n",
    "third = GraphNodeLevel(3, 1, [second, fourth], [second, fourth])\n",
    "\n",
    "l = l_matrix([first, second, third, fourth], 2)\n",
    "result = H(l, 4)\n",
    "\n",
    "print(\"Ответ на второй пункт задачи 3.3 равен {:.4g}\".format(result))"
   ]
  }
 ],
 "metadata": {
  "kernelspec": {
   "display_name": "Python 3.10.4 64-bit",
   "language": "python",
   "name": "python3"
  },
  "language_info": {
   "codemirror_mode": {
    "name": "ipython",
    "version": 3
   },
   "file_extension": ".py",
   "mimetype": "text/x-python",
   "name": "python",
   "nbconvert_exporter": "python",
   "pygments_lexer": "ipython3",
   "version": "3.10.4"
  },
  "orig_nbformat": 4,
  "vscode": {
   "interpreter": {
    "hash": "27f6fea6f47ae512550f0b8facdbd035a93e1dd89633f7bf2dd00a2502c71d0d"
   }
  }
 },
 "nbformat": 4,
 "nbformat_minor": 2
}
